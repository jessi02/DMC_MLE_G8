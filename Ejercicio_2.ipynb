{
 "cells": [
  {
   "cell_type": "code",
   "execution_count": 13,
   "id": "4d1c672e",
   "metadata": {},
   "outputs": [],
   "source": [
    "# INSTALACION DE PYCARET - INSTALAR EN EL TERMINAL\n",
    "# pip intall pycaret (en terminal)\n",
    "# pipline del modelo (8 pasos)\n",
    "#1. Setup(): Definir el dataset y parámetros\n",
    "#2. Compare_models(): Comparar multiples modelos y los rankear\n",
    "#3. Create model(): Crear un modelo específico\n",
    "#4. Tune_model(): Ajuste automático de hiperparámetros\n",
    "#5. plot_model(): visualizar el desempeño del modelo\n",
    "#6. Evaluate_model(): Evaluación del modelo\n",
    "#7. Predict_model(): Predicciones sobre nuevos datos en el DF\n",
    "#8. Save_model/load_model(): Guardar y cargar el modelo"
   ]
  },
  {
   "cell_type": "code",
   "execution_count": 14,
   "id": "60eb7b90",
   "metadata": {},
   "outputs": [],
   "source": [
    "# CASO DE PREDICCION DE PRECIOS EN DEPARTAMENTOS DE LIMA\n",
    "# OBJETIVO: CONSTRUIR ML CON PYCARET PARA PREDECIR EL PRECIO DE LOS DEPARTMENTOS\n"
   ]
  },
  {
   "cell_type": "code",
   "execution_count": 15,
   "id": "b8a5faf0",
   "metadata": {},
   "outputs": [],
   "source": [
    "import pandas as pd\n",
    "from pycaret.classification  import *\n",
    "\n"
   ]
  },
  {
   "cell_type": "code",
   "execution_count": 16,
   "id": "fda4dbe6",
   "metadata": {},
   "outputs": [],
   "source": [
    "#1. CARGAR LA DATA \n",
    "df= pd.read_csv(r\"ds_credito_vehicular.csv\")"
   ]
  },
  {
   "cell_type": "code",
   "execution_count": 17,
   "id": "d575f056",
   "metadata": {},
   "outputs": [
    {
     "name": "stdout",
     "output_type": "stream",
     "text": [
      "c:\\Users\\Jessica\\Desktop\\Documentos\\Curso DMC\\3. ML Engineer\\Material sesión 03-20250930\\PRUEBA_ML\\DMC_MLE_G8\n"
     ]
    }
   ],
   "source": [
    "import os\n",
    "print(os.getcwd())"
   ]
  },
  {
   "cell_type": "code",
   "execution_count": 18,
   "id": "65d286ca",
   "metadata": {},
   "outputs": [
    {
     "data": {
      "text/html": [
       "<div>\n",
       "<style scoped>\n",
       "    .dataframe tbody tr th:only-of-type {\n",
       "        vertical-align: middle;\n",
       "    }\n",
       "\n",
       "    .dataframe tbody tr th {\n",
       "        vertical-align: top;\n",
       "    }\n",
       "\n",
       "    .dataframe thead th {\n",
       "        text-align: right;\n",
       "    }\n",
       "</style>\n",
       "<table border=\"1\" class=\"dataframe\">\n",
       "  <thead>\n",
       "    <tr style=\"text-align: right;\">\n",
       "      <th></th>\n",
       "      <th>edad</th>\n",
       "      <th>ingresos_mensuales</th>\n",
       "      <th>estado_civil</th>\n",
       "      <th>historia_credito</th>\n",
       "      <th>nro_creditos_previos</th>\n",
       "      <th>cuota_vs_ingreso</th>\n",
       "      <th>vehiculo_propio</th>\n",
       "      <th>default</th>\n",
       "    </tr>\n",
       "  </thead>\n",
       "  <tbody>\n",
       "    <tr>\n",
       "      <th>0</th>\n",
       "      <td>59</td>\n",
       "      <td>7668</td>\n",
       "      <td>Divorciado</td>\n",
       "      <td>Buena</td>\n",
       "      <td>2</td>\n",
       "      <td>0.64</td>\n",
       "      <td>0</td>\n",
       "      <td>1</td>\n",
       "    </tr>\n",
       "    <tr>\n",
       "      <th>1</th>\n",
       "      <td>49</td>\n",
       "      <td>6279</td>\n",
       "      <td>Casado</td>\n",
       "      <td>Buena</td>\n",
       "      <td>2</td>\n",
       "      <td>0.31</td>\n",
       "      <td>1</td>\n",
       "      <td>1</td>\n",
       "    </tr>\n",
       "    <tr>\n",
       "      <th>2</th>\n",
       "      <td>35</td>\n",
       "      <td>2722</td>\n",
       "      <td>Soltero</td>\n",
       "      <td>Mala</td>\n",
       "      <td>4</td>\n",
       "      <td>0.41</td>\n",
       "      <td>1</td>\n",
       "      <td>0</td>\n",
       "    </tr>\n",
       "    <tr>\n",
       "      <th>3</th>\n",
       "      <td>63</td>\n",
       "      <td>4314</td>\n",
       "      <td>Divorciado</td>\n",
       "      <td>Regular</td>\n",
       "      <td>4</td>\n",
       "      <td>0.57</td>\n",
       "      <td>0</td>\n",
       "      <td>0</td>\n",
       "    </tr>\n",
       "    <tr>\n",
       "      <th>4</th>\n",
       "      <td>28</td>\n",
       "      <td>4157</td>\n",
       "      <td>Soltero</td>\n",
       "      <td>Buena</td>\n",
       "      <td>1</td>\n",
       "      <td>0.34</td>\n",
       "      <td>0</td>\n",
       "      <td>0</td>\n",
       "    </tr>\n",
       "  </tbody>\n",
       "</table>\n",
       "</div>"
      ],
      "text/plain": [
       "   edad  ingresos_mensuales estado_civil historia_credito  \\\n",
       "0    59                7668   Divorciado            Buena   \n",
       "1    49                6279       Casado            Buena   \n",
       "2    35                2722      Soltero             Mala   \n",
       "3    63                4314   Divorciado          Regular   \n",
       "4    28                4157      Soltero            Buena   \n",
       "\n",
       "   nro_creditos_previos  cuota_vs_ingreso  vehiculo_propio  default  \n",
       "0                     2              0.64                0        1  \n",
       "1                     2              0.31                1        1  \n",
       "2                     4              0.41                1        0  \n",
       "3                     4              0.57                0        0  \n",
       "4                     1              0.34                0        0  "
      ]
     },
     "execution_count": 18,
     "metadata": {},
     "output_type": "execute_result"
    }
   ],
   "source": [
    "df.head()"
   ]
  },
  {
   "cell_type": "code",
   "execution_count": 19,
   "id": "96cf88d0",
   "metadata": {},
   "outputs": [
    {
     "name": "stdout",
     "output_type": "stream",
     "text": [
      "estado_civil\n",
      "Casado        55\n",
      "Soltero       49\n",
      "Divorciado    46\n",
      "Name: count, dtype: int64\n",
      "historia_credito\n",
      "Buena      88\n",
      "Regular    44\n",
      "Mala       18\n",
      "Name: count, dtype: int64\n",
      "vehiculo_propio\n",
      "1    92\n",
      "0    58\n",
      "Name: count, dtype: int64\n"
     ]
    }
   ],
   "source": [
    "print(df['estado_civil'].value_counts())\n",
    "print(df['historia_credito'].value_counts())\n",
    "print(df['vehiculo_propio'].value_counts())"
   ]
  },
  {
   "cell_type": "code",
   "execution_count": 20,
   "id": "963dab4b",
   "metadata": {},
   "outputs": [
    {
     "data": {
      "text/plain": [
       "default\n",
       "0    125\n",
       "1     25\n",
       "Name: count, dtype: int64"
      ]
     },
     "execution_count": 20,
     "metadata": {},
     "output_type": "execute_result"
    }
   ],
   "source": [
    "df['default'].value_counts()\n",
    "# Comentario: Hay desbalance de clase"
   ]
  },
  {
   "cell_type": "code",
   "execution_count": 12,
   "id": "e99c5f3b",
   "metadata": {},
   "outputs": [
    {
     "data": {
      "text/html": [
       "<style type=\"text/css\">\n",
       "#T_abeed_row9_col1 {\n",
       "  background-color: lightgreen;\n",
       "}\n",
       "</style>\n",
       "<table id=\"T_abeed\">\n",
       "  <thead>\n",
       "    <tr>\n",
       "      <th class=\"blank level0\" >&nbsp;</th>\n",
       "      <th id=\"T_abeed_level0_col0\" class=\"col_heading level0 col0\" >Description</th>\n",
       "      <th id=\"T_abeed_level0_col1\" class=\"col_heading level0 col1\" >Value</th>\n",
       "    </tr>\n",
       "  </thead>\n",
       "  <tbody>\n",
       "    <tr>\n",
       "      <th id=\"T_abeed_level0_row0\" class=\"row_heading level0 row0\" >0</th>\n",
       "      <td id=\"T_abeed_row0_col0\" class=\"data row0 col0\" >Session id</td>\n",
       "      <td id=\"T_abeed_row0_col1\" class=\"data row0 col1\" >123</td>\n",
       "    </tr>\n",
       "    <tr>\n",
       "      <th id=\"T_abeed_level0_row1\" class=\"row_heading level0 row1\" >1</th>\n",
       "      <td id=\"T_abeed_row1_col0\" class=\"data row1 col0\" >Target</td>\n",
       "      <td id=\"T_abeed_row1_col1\" class=\"data row1 col1\" >default</td>\n",
       "    </tr>\n",
       "    <tr>\n",
       "      <th id=\"T_abeed_level0_row2\" class=\"row_heading level0 row2\" >2</th>\n",
       "      <td id=\"T_abeed_row2_col0\" class=\"data row2 col0\" >Target type</td>\n",
       "      <td id=\"T_abeed_row2_col1\" class=\"data row2 col1\" >Binary</td>\n",
       "    </tr>\n",
       "    <tr>\n",
       "      <th id=\"T_abeed_level0_row3\" class=\"row_heading level0 row3\" >3</th>\n",
       "      <td id=\"T_abeed_row3_col0\" class=\"data row3 col0\" >Original data shape</td>\n",
       "      <td id=\"T_abeed_row3_col1\" class=\"data row3 col1\" >(150, 8)</td>\n",
       "    </tr>\n",
       "    <tr>\n",
       "      <th id=\"T_abeed_level0_row4\" class=\"row_heading level0 row4\" >4</th>\n",
       "      <td id=\"T_abeed_row4_col0\" class=\"data row4 col0\" >Transformed data shape</td>\n",
       "      <td id=\"T_abeed_row4_col1\" class=\"data row4 col1\" >(150, 12)</td>\n",
       "    </tr>\n",
       "    <tr>\n",
       "      <th id=\"T_abeed_level0_row5\" class=\"row_heading level0 row5\" >5</th>\n",
       "      <td id=\"T_abeed_row5_col0\" class=\"data row5 col0\" >Transformed train set shape</td>\n",
       "      <td id=\"T_abeed_row5_col1\" class=\"data row5 col1\" >(105, 12)</td>\n",
       "    </tr>\n",
       "    <tr>\n",
       "      <th id=\"T_abeed_level0_row6\" class=\"row_heading level0 row6\" >6</th>\n",
       "      <td id=\"T_abeed_row6_col0\" class=\"data row6 col0\" >Transformed test set shape</td>\n",
       "      <td id=\"T_abeed_row6_col1\" class=\"data row6 col1\" >(45, 12)</td>\n",
       "    </tr>\n",
       "    <tr>\n",
       "      <th id=\"T_abeed_level0_row7\" class=\"row_heading level0 row7\" >7</th>\n",
       "      <td id=\"T_abeed_row7_col0\" class=\"data row7 col0\" >Numeric features</td>\n",
       "      <td id=\"T_abeed_row7_col1\" class=\"data row7 col1\" >4</td>\n",
       "    </tr>\n",
       "    <tr>\n",
       "      <th id=\"T_abeed_level0_row8\" class=\"row_heading level0 row8\" >8</th>\n",
       "      <td id=\"T_abeed_row8_col0\" class=\"data row8 col0\" >Categorical features</td>\n",
       "      <td id=\"T_abeed_row8_col1\" class=\"data row8 col1\" >3</td>\n",
       "    </tr>\n",
       "    <tr>\n",
       "      <th id=\"T_abeed_level0_row9\" class=\"row_heading level0 row9\" >9</th>\n",
       "      <td id=\"T_abeed_row9_col0\" class=\"data row9 col0\" >Preprocess</td>\n",
       "      <td id=\"T_abeed_row9_col1\" class=\"data row9 col1\" >True</td>\n",
       "    </tr>\n",
       "    <tr>\n",
       "      <th id=\"T_abeed_level0_row10\" class=\"row_heading level0 row10\" >10</th>\n",
       "      <td id=\"T_abeed_row10_col0\" class=\"data row10 col0\" >Imputation type</td>\n",
       "      <td id=\"T_abeed_row10_col1\" class=\"data row10 col1\" >simple</td>\n",
       "    </tr>\n",
       "    <tr>\n",
       "      <th id=\"T_abeed_level0_row11\" class=\"row_heading level0 row11\" >11</th>\n",
       "      <td id=\"T_abeed_row11_col0\" class=\"data row11 col0\" >Numeric imputation</td>\n",
       "      <td id=\"T_abeed_row11_col1\" class=\"data row11 col1\" >mean</td>\n",
       "    </tr>\n",
       "    <tr>\n",
       "      <th id=\"T_abeed_level0_row12\" class=\"row_heading level0 row12\" >12</th>\n",
       "      <td id=\"T_abeed_row12_col0\" class=\"data row12 col0\" >Categorical imputation</td>\n",
       "      <td id=\"T_abeed_row12_col1\" class=\"data row12 col1\" >mode</td>\n",
       "    </tr>\n",
       "    <tr>\n",
       "      <th id=\"T_abeed_level0_row13\" class=\"row_heading level0 row13\" >13</th>\n",
       "      <td id=\"T_abeed_row13_col0\" class=\"data row13 col0\" >Maximum one-hot encoding</td>\n",
       "      <td id=\"T_abeed_row13_col1\" class=\"data row13 col1\" >25</td>\n",
       "    </tr>\n",
       "    <tr>\n",
       "      <th id=\"T_abeed_level0_row14\" class=\"row_heading level0 row14\" >14</th>\n",
       "      <td id=\"T_abeed_row14_col0\" class=\"data row14 col0\" >Encoding method</td>\n",
       "      <td id=\"T_abeed_row14_col1\" class=\"data row14 col1\" >None</td>\n",
       "    </tr>\n",
       "    <tr>\n",
       "      <th id=\"T_abeed_level0_row15\" class=\"row_heading level0 row15\" >15</th>\n",
       "      <td id=\"T_abeed_row15_col0\" class=\"data row15 col0\" >Fold Generator</td>\n",
       "      <td id=\"T_abeed_row15_col1\" class=\"data row15 col1\" >StratifiedKFold</td>\n",
       "    </tr>\n",
       "    <tr>\n",
       "      <th id=\"T_abeed_level0_row16\" class=\"row_heading level0 row16\" >16</th>\n",
       "      <td id=\"T_abeed_row16_col0\" class=\"data row16 col0\" >Fold Number</td>\n",
       "      <td id=\"T_abeed_row16_col1\" class=\"data row16 col1\" >10</td>\n",
       "    </tr>\n",
       "    <tr>\n",
       "      <th id=\"T_abeed_level0_row17\" class=\"row_heading level0 row17\" >17</th>\n",
       "      <td id=\"T_abeed_row17_col0\" class=\"data row17 col0\" >CPU Jobs</td>\n",
       "      <td id=\"T_abeed_row17_col1\" class=\"data row17 col1\" >-1</td>\n",
       "    </tr>\n",
       "    <tr>\n",
       "      <th id=\"T_abeed_level0_row18\" class=\"row_heading level0 row18\" >18</th>\n",
       "      <td id=\"T_abeed_row18_col0\" class=\"data row18 col0\" >Use GPU</td>\n",
       "      <td id=\"T_abeed_row18_col1\" class=\"data row18 col1\" >False</td>\n",
       "    </tr>\n",
       "    <tr>\n",
       "      <th id=\"T_abeed_level0_row19\" class=\"row_heading level0 row19\" >19</th>\n",
       "      <td id=\"T_abeed_row19_col0\" class=\"data row19 col0\" >Log Experiment</td>\n",
       "      <td id=\"T_abeed_row19_col1\" class=\"data row19 col1\" >False</td>\n",
       "    </tr>\n",
       "    <tr>\n",
       "      <th id=\"T_abeed_level0_row20\" class=\"row_heading level0 row20\" >20</th>\n",
       "      <td id=\"T_abeed_row20_col0\" class=\"data row20 col0\" >Experiment Name</td>\n",
       "      <td id=\"T_abeed_row20_col1\" class=\"data row20 col1\" >clf-default-name</td>\n",
       "    </tr>\n",
       "    <tr>\n",
       "      <th id=\"T_abeed_level0_row21\" class=\"row_heading level0 row21\" >21</th>\n",
       "      <td id=\"T_abeed_row21_col0\" class=\"data row21 col0\" >USI</td>\n",
       "      <td id=\"T_abeed_row21_col1\" class=\"data row21 col1\" >1551</td>\n",
       "    </tr>\n",
       "  </tbody>\n",
       "</table>\n"
      ],
      "text/plain": [
       "<pandas.io.formats.style.Styler at 0x16f6ccae990>"
      ]
     },
     "metadata": {},
     "output_type": "display_data"
    }
   ],
   "source": [
    "#1. Setup(): Definir el dataset y parámetros\n",
    "reg=setup(data=df,target='default',session_id=123,categorical_features=['estado_civil','historia_credito','vehiculo_propio'])"
   ]
  },
  {
   "cell_type": "code",
   "execution_count": 14,
   "id": "78060e28",
   "metadata": {},
   "outputs": [
    {
     "data": {
      "text/html": [],
      "text/plain": [
       "<IPython.core.display.HTML object>"
      ]
     },
     "metadata": {},
     "output_type": "display_data"
    },
    {
     "data": {
      "text/html": [
       "<style type=\"text/css\">\n",
       "#T_c6979 th {\n",
       "  text-align: left;\n",
       "}\n",
       "#T_c6979_row0_col0, #T_c6979_row0_col2, #T_c6979_row0_col3, #T_c6979_row0_col4, #T_c6979_row0_col5, #T_c6979_row0_col6, #T_c6979_row0_col7, #T_c6979_row1_col0, #T_c6979_row1_col1 {\n",
       "  text-align: left;\n",
       "}\n",
       "#T_c6979_row0_col1, #T_c6979_row1_col2, #T_c6979_row1_col3, #T_c6979_row1_col4, #T_c6979_row1_col5, #T_c6979_row1_col6, #T_c6979_row1_col7 {\n",
       "  text-align: left;\n",
       "  background-color: yellow;\n",
       "}\n",
       "#T_c6979_row0_col8 {\n",
       "  text-align: left;\n",
       "  background-color: yellow;\n",
       "  background-color: lightgrey;\n",
       "}\n",
       "#T_c6979_row1_col8 {\n",
       "  text-align: left;\n",
       "  background-color: lightgrey;\n",
       "}\n",
       "</style>\n",
       "<table id=\"T_c6979\">\n",
       "  <thead>\n",
       "    <tr>\n",
       "      <th class=\"blank level0\" >&nbsp;</th>\n",
       "      <th id=\"T_c6979_level0_col0\" class=\"col_heading level0 col0\" >Model</th>\n",
       "      <th id=\"T_c6979_level0_col1\" class=\"col_heading level0 col1\" >Accuracy</th>\n",
       "      <th id=\"T_c6979_level0_col2\" class=\"col_heading level0 col2\" >AUC</th>\n",
       "      <th id=\"T_c6979_level0_col3\" class=\"col_heading level0 col3\" >Recall</th>\n",
       "      <th id=\"T_c6979_level0_col4\" class=\"col_heading level0 col4\" >Prec.</th>\n",
       "      <th id=\"T_c6979_level0_col5\" class=\"col_heading level0 col5\" >F1</th>\n",
       "      <th id=\"T_c6979_level0_col6\" class=\"col_heading level0 col6\" >Kappa</th>\n",
       "      <th id=\"T_c6979_level0_col7\" class=\"col_heading level0 col7\" >MCC</th>\n",
       "      <th id=\"T_c6979_level0_col8\" class=\"col_heading level0 col8\" >TT (Sec)</th>\n",
       "    </tr>\n",
       "  </thead>\n",
       "  <tbody>\n",
       "    <tr>\n",
       "      <th id=\"T_c6979_level0_row0\" class=\"row_heading level0 row0\" >dummy</th>\n",
       "      <td id=\"T_c6979_row0_col0\" class=\"data row0 col0\" >Dummy Classifier</td>\n",
       "      <td id=\"T_c6979_row0_col1\" class=\"data row0 col1\" >0.8291</td>\n",
       "      <td id=\"T_c6979_row0_col2\" class=\"data row0 col2\" >0.5000</td>\n",
       "      <td id=\"T_c6979_row0_col3\" class=\"data row0 col3\" >0.0000</td>\n",
       "      <td id=\"T_c6979_row0_col4\" class=\"data row0 col4\" >0.0000</td>\n",
       "      <td id=\"T_c6979_row0_col5\" class=\"data row0 col5\" >0.0000</td>\n",
       "      <td id=\"T_c6979_row0_col6\" class=\"data row0 col6\" >0.0000</td>\n",
       "      <td id=\"T_c6979_row0_col7\" class=\"data row0 col7\" >0.0000</td>\n",
       "      <td id=\"T_c6979_row0_col8\" class=\"data row0 col8\" >0.0270</td>\n",
       "    </tr>\n",
       "    <tr>\n",
       "      <th id=\"T_c6979_level0_row1\" class=\"row_heading level0 row1\" >lightgbm</th>\n",
       "      <td id=\"T_c6979_row1_col0\" class=\"data row1 col0\" >Light Gradient Boosting Machine</td>\n",
       "      <td id=\"T_c6979_row1_col1\" class=\"data row1 col1\" >0.7991</td>\n",
       "      <td id=\"T_c6979_row1_col2\" class=\"data row1 col2\" >0.6021</td>\n",
       "      <td id=\"T_c6979_row1_col3\" class=\"data row1 col3\" >0.0500</td>\n",
       "      <td id=\"T_c6979_row1_col4\" class=\"data row1 col4\" >0.1000</td>\n",
       "      <td id=\"T_c6979_row1_col5\" class=\"data row1 col5\" >0.0667</td>\n",
       "      <td id=\"T_c6979_row1_col6\" class=\"data row1 col6\" >0.0079</td>\n",
       "      <td id=\"T_c6979_row1_col7\" class=\"data row1 col7\" >0.0105</td>\n",
       "      <td id=\"T_c6979_row1_col8\" class=\"data row1 col8\" >0.0430</td>\n",
       "    </tr>\n",
       "  </tbody>\n",
       "</table>\n"
      ],
      "text/plain": [
       "<pandas.io.formats.style.Styler at 0x1bac87e7550>"
      ]
     },
     "metadata": {},
     "output_type": "display_data"
    },
    {
     "data": {
      "text/html": [],
      "text/plain": [
       "<IPython.core.display.HTML object>"
      ]
     },
     "metadata": {},
     "output_type": "display_data"
    }
   ],
   "source": [
    "#2. Compare_models(): Comparar multiples modelos y los rankear\n",
    "best_model = compare_models()"
   ]
  },
  {
   "cell_type": "code",
   "execution_count": 9,
   "id": "b305848b",
   "metadata": {},
   "outputs": [
    {
     "data": {
      "text/html": [],
      "text/plain": [
       "<IPython.core.display.HTML object>"
      ]
     },
     "metadata": {},
     "output_type": "display_data"
    },
    {
     "data": {
      "text/html": [
       "<style type=\"text/css\">\n",
       "#T_e53ae_row10_col0, #T_e53ae_row10_col1, #T_e53ae_row10_col2, #T_e53ae_row10_col3, #T_e53ae_row10_col4, #T_e53ae_row10_col5 {\n",
       "  background: yellow;\n",
       "}\n",
       "</style>\n",
       "<table id=\"T_e53ae\">\n",
       "  <thead>\n",
       "    <tr>\n",
       "      <th class=\"blank level0\" >&nbsp;</th>\n",
       "      <th id=\"T_e53ae_level0_col0\" class=\"col_heading level0 col0\" >MAE</th>\n",
       "      <th id=\"T_e53ae_level0_col1\" class=\"col_heading level0 col1\" >MSE</th>\n",
       "      <th id=\"T_e53ae_level0_col2\" class=\"col_heading level0 col2\" >RMSE</th>\n",
       "      <th id=\"T_e53ae_level0_col3\" class=\"col_heading level0 col3\" >R2</th>\n",
       "      <th id=\"T_e53ae_level0_col4\" class=\"col_heading level0 col4\" >RMSLE</th>\n",
       "      <th id=\"T_e53ae_level0_col5\" class=\"col_heading level0 col5\" >MAPE</th>\n",
       "    </tr>\n",
       "    <tr>\n",
       "      <th class=\"index_name level0\" >Fold</th>\n",
       "      <th class=\"blank col0\" >&nbsp;</th>\n",
       "      <th class=\"blank col1\" >&nbsp;</th>\n",
       "      <th class=\"blank col2\" >&nbsp;</th>\n",
       "      <th class=\"blank col3\" >&nbsp;</th>\n",
       "      <th class=\"blank col4\" >&nbsp;</th>\n",
       "      <th class=\"blank col5\" >&nbsp;</th>\n",
       "    </tr>\n",
       "  </thead>\n",
       "  <tbody>\n",
       "    <tr>\n",
       "      <th id=\"T_e53ae_level0_row0\" class=\"row_heading level0 row0\" >0</th>\n",
       "      <td id=\"T_e53ae_row0_col0\" class=\"data row0 col0\" >8228.1193</td>\n",
       "      <td id=\"T_e53ae_row0_col1\" class=\"data row0 col1\" >128207335.1395</td>\n",
       "      <td id=\"T_e53ae_row0_col2\" class=\"data row0 col2\" >11322.8678</td>\n",
       "      <td id=\"T_e53ae_row0_col3\" class=\"data row0 col3\" >0.9802</td>\n",
       "      <td id=\"T_e53ae_row0_col4\" class=\"data row0 col4\" >0.0408</td>\n",
       "      <td id=\"T_e53ae_row0_col5\" class=\"data row0 col5\" >0.0314</td>\n",
       "    </tr>\n",
       "    <tr>\n",
       "      <th id=\"T_e53ae_level0_row1\" class=\"row_heading level0 row1\" >1</th>\n",
       "      <td id=\"T_e53ae_row1_col0\" class=\"data row1 col0\" >12382.6057</td>\n",
       "      <td id=\"T_e53ae_row1_col1\" class=\"data row1 col1\" >231795614.2626</td>\n",
       "      <td id=\"T_e53ae_row1_col2\" class=\"data row1 col2\" >15224.8354</td>\n",
       "      <td id=\"T_e53ae_row1_col3\" class=\"data row1 col3\" >0.9742</td>\n",
       "      <td id=\"T_e53ae_row1_col4\" class=\"data row1 col4\" >0.0808</td>\n",
       "      <td id=\"T_e53ae_row1_col5\" class=\"data row1 col5\" >0.0624</td>\n",
       "    </tr>\n",
       "    <tr>\n",
       "      <th id=\"T_e53ae_level0_row2\" class=\"row_heading level0 row2\" >2</th>\n",
       "      <td id=\"T_e53ae_row2_col0\" class=\"data row2 col0\" >11402.7735</td>\n",
       "      <td id=\"T_e53ae_row2_col1\" class=\"data row2 col1\" >178327899.8759</td>\n",
       "      <td id=\"T_e53ae_row2_col2\" class=\"data row2 col2\" >13353.9470</td>\n",
       "      <td id=\"T_e53ae_row2_col3\" class=\"data row2 col3\" >0.9274</td>\n",
       "      <td id=\"T_e53ae_row2_col4\" class=\"data row2 col4\" >0.0491</td>\n",
       "      <td id=\"T_e53ae_row2_col5\" class=\"data row2 col5\" >0.0403</td>\n",
       "    </tr>\n",
       "    <tr>\n",
       "      <th id=\"T_e53ae_level0_row3\" class=\"row_heading level0 row3\" >3</th>\n",
       "      <td id=\"T_e53ae_row3_col0\" class=\"data row3 col0\" >14086.9562</td>\n",
       "      <td id=\"T_e53ae_row3_col1\" class=\"data row3 col1\" >375781739.9028</td>\n",
       "      <td id=\"T_e53ae_row3_col2\" class=\"data row3 col2\" >19385.0907</td>\n",
       "      <td id=\"T_e53ae_row3_col3\" class=\"data row3 col3\" >0.9333</td>\n",
       "      <td id=\"T_e53ae_row3_col4\" class=\"data row3 col4\" >0.0633</td>\n",
       "      <td id=\"T_e53ae_row3_col5\" class=\"data row3 col5\" >0.0466</td>\n",
       "    </tr>\n",
       "    <tr>\n",
       "      <th id=\"T_e53ae_level0_row4\" class=\"row_heading level0 row4\" >4</th>\n",
       "      <td id=\"T_e53ae_row4_col0\" class=\"data row4 col0\" >9469.3045</td>\n",
       "      <td id=\"T_e53ae_row4_col1\" class=\"data row4 col1\" >146238973.8241</td>\n",
       "      <td id=\"T_e53ae_row4_col2\" class=\"data row4 col2\" >12092.9307</td>\n",
       "      <td id=\"T_e53ae_row4_col3\" class=\"data row4 col3\" >0.9816</td>\n",
       "      <td id=\"T_e53ae_row4_col4\" class=\"data row4 col4\" >0.0354</td>\n",
       "      <td id=\"T_e53ae_row4_col5\" class=\"data row4 col5\" >0.0299</td>\n",
       "    </tr>\n",
       "    <tr>\n",
       "      <th id=\"T_e53ae_level0_row5\" class=\"row_heading level0 row5\" >5</th>\n",
       "      <td id=\"T_e53ae_row5_col0\" class=\"data row5 col0\" >10738.6190</td>\n",
       "      <td id=\"T_e53ae_row5_col1\" class=\"data row5 col1\" >222111756.4850</td>\n",
       "      <td id=\"T_e53ae_row5_col2\" class=\"data row5 col2\" >14903.4143</td>\n",
       "      <td id=\"T_e53ae_row5_col3\" class=\"data row5 col3\" >0.9663</td>\n",
       "      <td id=\"T_e53ae_row5_col4\" class=\"data row5 col4\" >0.0422</td>\n",
       "      <td id=\"T_e53ae_row5_col5\" class=\"data row5 col5\" >0.0336</td>\n",
       "    </tr>\n",
       "    <tr>\n",
       "      <th id=\"T_e53ae_level0_row6\" class=\"row_heading level0 row6\" >6</th>\n",
       "      <td id=\"T_e53ae_row6_col0\" class=\"data row6 col0\" >15475.3250</td>\n",
       "      <td id=\"T_e53ae_row6_col1\" class=\"data row6 col1\" >330392051.7883</td>\n",
       "      <td id=\"T_e53ae_row6_col2\" class=\"data row6 col2\" >18176.6898</td>\n",
       "      <td id=\"T_e53ae_row6_col3\" class=\"data row6 col3\" >0.9675</td>\n",
       "      <td id=\"T_e53ae_row6_col4\" class=\"data row6 col4\" >0.1052</td>\n",
       "      <td id=\"T_e53ae_row6_col5\" class=\"data row6 col5\" >0.0765</td>\n",
       "    </tr>\n",
       "    <tr>\n",
       "      <th id=\"T_e53ae_level0_row7\" class=\"row_heading level0 row7\" >7</th>\n",
       "      <td id=\"T_e53ae_row7_col0\" class=\"data row7 col0\" >13786.7347</td>\n",
       "      <td id=\"T_e53ae_row7_col1\" class=\"data row7 col1\" >249341965.8060</td>\n",
       "      <td id=\"T_e53ae_row7_col2\" class=\"data row7 col2\" >15790.5657</td>\n",
       "      <td id=\"T_e53ae_row7_col3\" class=\"data row7 col3\" >0.9295</td>\n",
       "      <td id=\"T_e53ae_row7_col4\" class=\"data row7 col4\" >0.0524</td>\n",
       "      <td id=\"T_e53ae_row7_col5\" class=\"data row7 col5\" >0.0450</td>\n",
       "    </tr>\n",
       "    <tr>\n",
       "      <th id=\"T_e53ae_level0_row8\" class=\"row_heading level0 row8\" >8</th>\n",
       "      <td id=\"T_e53ae_row8_col0\" class=\"data row8 col0\" >8076.4682</td>\n",
       "      <td id=\"T_e53ae_row8_col1\" class=\"data row8 col1\" >122365620.4205</td>\n",
       "      <td id=\"T_e53ae_row8_col2\" class=\"data row8 col2\" >11061.8995</td>\n",
       "      <td id=\"T_e53ae_row8_col3\" class=\"data row8 col3\" >0.9793</td>\n",
       "      <td id=\"T_e53ae_row8_col4\" class=\"data row8 col4\" >0.0422</td>\n",
       "      <td id=\"T_e53ae_row8_col5\" class=\"data row8 col5\" >0.0318</td>\n",
       "    </tr>\n",
       "    <tr>\n",
       "      <th id=\"T_e53ae_level0_row9\" class=\"row_heading level0 row9\" >9</th>\n",
       "      <td id=\"T_e53ae_row9_col0\" class=\"data row9 col0\" >9165.8077</td>\n",
       "      <td id=\"T_e53ae_row9_col1\" class=\"data row9 col1\" >170082729.6869</td>\n",
       "      <td id=\"T_e53ae_row9_col2\" class=\"data row9 col2\" >13041.5770</td>\n",
       "      <td id=\"T_e53ae_row9_col3\" class=\"data row9 col3\" >0.9535</td>\n",
       "      <td id=\"T_e53ae_row9_col4\" class=\"data row9 col4\" >0.0720</td>\n",
       "      <td id=\"T_e53ae_row9_col5\" class=\"data row9 col5\" >0.0514</td>\n",
       "    </tr>\n",
       "    <tr>\n",
       "      <th id=\"T_e53ae_level0_row10\" class=\"row_heading level0 row10\" >Mean</th>\n",
       "      <td id=\"T_e53ae_row10_col0\" class=\"data row10 col0\" >11281.2714</td>\n",
       "      <td id=\"T_e53ae_row10_col1\" class=\"data row10 col1\" >215464568.7192</td>\n",
       "      <td id=\"T_e53ae_row10_col2\" class=\"data row10 col2\" >14435.3818</td>\n",
       "      <td id=\"T_e53ae_row10_col3\" class=\"data row10 col3\" >0.9593</td>\n",
       "      <td id=\"T_e53ae_row10_col4\" class=\"data row10 col4\" >0.0583</td>\n",
       "      <td id=\"T_e53ae_row10_col5\" class=\"data row10 col5\" >0.0449</td>\n",
       "    </tr>\n",
       "    <tr>\n",
       "      <th id=\"T_e53ae_level0_row11\" class=\"row_heading level0 row11\" >Std</th>\n",
       "      <td id=\"T_e53ae_row11_col0\" class=\"data row11 col0\" >2461.9582</td>\n",
       "      <td id=\"T_e53ae_row11_col1\" class=\"data row11 col1\" >80548465.7766</td>\n",
       "      <td id=\"T_e53ae_row11_col2\" class=\"data row11 col2\" >2661.6389</td>\n",
       "      <td id=\"T_e53ae_row11_col3\" class=\"data row11 col3\" >0.0207</td>\n",
       "      <td id=\"T_e53ae_row11_col4\" class=\"data row11 col4\" >0.0210</td>\n",
       "      <td id=\"T_e53ae_row11_col5\" class=\"data row11 col5\" >0.0144</td>\n",
       "    </tr>\n",
       "  </tbody>\n",
       "</table>\n"
      ],
      "text/plain": [
       "<pandas.io.formats.style.Styler at 0x1fec98bf390>"
      ]
     },
     "metadata": {},
     "output_type": "display_data"
    },
    {
     "data": {
      "text/html": [],
      "text/plain": [
       "<IPython.core.display.HTML object>"
      ]
     },
     "metadata": {},
     "output_type": "display_data"
    }
   ],
   "source": [
    "lr=create_model('lr')"
   ]
  },
  {
   "cell_type": "code",
   "execution_count": 10,
   "id": "2b75fcd0",
   "metadata": {},
   "outputs": [
    {
     "data": {
      "text/html": [],
      "text/plain": [
       "<IPython.core.display.HTML object>"
      ]
     },
     "metadata": {},
     "output_type": "display_data"
    },
    {
     "data": {
      "text/html": [
       "<style type=\"text/css\">\n",
       "#T_a204a_row10_col0, #T_a204a_row10_col1, #T_a204a_row10_col2, #T_a204a_row10_col3, #T_a204a_row10_col4, #T_a204a_row10_col5 {\n",
       "  background: yellow;\n",
       "}\n",
       "</style>\n",
       "<table id=\"T_a204a\">\n",
       "  <thead>\n",
       "    <tr>\n",
       "      <th class=\"blank level0\" >&nbsp;</th>\n",
       "      <th id=\"T_a204a_level0_col0\" class=\"col_heading level0 col0\" >MAE</th>\n",
       "      <th id=\"T_a204a_level0_col1\" class=\"col_heading level0 col1\" >MSE</th>\n",
       "      <th id=\"T_a204a_level0_col2\" class=\"col_heading level0 col2\" >RMSE</th>\n",
       "      <th id=\"T_a204a_level0_col3\" class=\"col_heading level0 col3\" >R2</th>\n",
       "      <th id=\"T_a204a_level0_col4\" class=\"col_heading level0 col4\" >RMSLE</th>\n",
       "      <th id=\"T_a204a_level0_col5\" class=\"col_heading level0 col5\" >MAPE</th>\n",
       "    </tr>\n",
       "    <tr>\n",
       "      <th class=\"index_name level0\" >Fold</th>\n",
       "      <th class=\"blank col0\" >&nbsp;</th>\n",
       "      <th class=\"blank col1\" >&nbsp;</th>\n",
       "      <th class=\"blank col2\" >&nbsp;</th>\n",
       "      <th class=\"blank col3\" >&nbsp;</th>\n",
       "      <th class=\"blank col4\" >&nbsp;</th>\n",
       "      <th class=\"blank col5\" >&nbsp;</th>\n",
       "    </tr>\n",
       "  </thead>\n",
       "  <tbody>\n",
       "    <tr>\n",
       "      <th id=\"T_a204a_level0_row0\" class=\"row_heading level0 row0\" >0</th>\n",
       "      <td id=\"T_a204a_row0_col0\" class=\"data row0 col0\" >8228.1193</td>\n",
       "      <td id=\"T_a204a_row0_col1\" class=\"data row0 col1\" >128207335.1395</td>\n",
       "      <td id=\"T_a204a_row0_col2\" class=\"data row0 col2\" >11322.8678</td>\n",
       "      <td id=\"T_a204a_row0_col3\" class=\"data row0 col3\" >0.9802</td>\n",
       "      <td id=\"T_a204a_row0_col4\" class=\"data row0 col4\" >0.0408</td>\n",
       "      <td id=\"T_a204a_row0_col5\" class=\"data row0 col5\" >0.0314</td>\n",
       "    </tr>\n",
       "    <tr>\n",
       "      <th id=\"T_a204a_level0_row1\" class=\"row_heading level0 row1\" >1</th>\n",
       "      <td id=\"T_a204a_row1_col0\" class=\"data row1 col0\" >12382.6057</td>\n",
       "      <td id=\"T_a204a_row1_col1\" class=\"data row1 col1\" >231795614.2626</td>\n",
       "      <td id=\"T_a204a_row1_col2\" class=\"data row1 col2\" >15224.8354</td>\n",
       "      <td id=\"T_a204a_row1_col3\" class=\"data row1 col3\" >0.9742</td>\n",
       "      <td id=\"T_a204a_row1_col4\" class=\"data row1 col4\" >0.0808</td>\n",
       "      <td id=\"T_a204a_row1_col5\" class=\"data row1 col5\" >0.0624</td>\n",
       "    </tr>\n",
       "    <tr>\n",
       "      <th id=\"T_a204a_level0_row2\" class=\"row_heading level0 row2\" >2</th>\n",
       "      <td id=\"T_a204a_row2_col0\" class=\"data row2 col0\" >11402.7735</td>\n",
       "      <td id=\"T_a204a_row2_col1\" class=\"data row2 col1\" >178327899.8759</td>\n",
       "      <td id=\"T_a204a_row2_col2\" class=\"data row2 col2\" >13353.9470</td>\n",
       "      <td id=\"T_a204a_row2_col3\" class=\"data row2 col3\" >0.9274</td>\n",
       "      <td id=\"T_a204a_row2_col4\" class=\"data row2 col4\" >0.0491</td>\n",
       "      <td id=\"T_a204a_row2_col5\" class=\"data row2 col5\" >0.0403</td>\n",
       "    </tr>\n",
       "    <tr>\n",
       "      <th id=\"T_a204a_level0_row3\" class=\"row_heading level0 row3\" >3</th>\n",
       "      <td id=\"T_a204a_row3_col0\" class=\"data row3 col0\" >14086.9562</td>\n",
       "      <td id=\"T_a204a_row3_col1\" class=\"data row3 col1\" >375781739.9028</td>\n",
       "      <td id=\"T_a204a_row3_col2\" class=\"data row3 col2\" >19385.0907</td>\n",
       "      <td id=\"T_a204a_row3_col3\" class=\"data row3 col3\" >0.9333</td>\n",
       "      <td id=\"T_a204a_row3_col4\" class=\"data row3 col4\" >0.0633</td>\n",
       "      <td id=\"T_a204a_row3_col5\" class=\"data row3 col5\" >0.0466</td>\n",
       "    </tr>\n",
       "    <tr>\n",
       "      <th id=\"T_a204a_level0_row4\" class=\"row_heading level0 row4\" >4</th>\n",
       "      <td id=\"T_a204a_row4_col0\" class=\"data row4 col0\" >9469.3045</td>\n",
       "      <td id=\"T_a204a_row4_col1\" class=\"data row4 col1\" >146238973.8241</td>\n",
       "      <td id=\"T_a204a_row4_col2\" class=\"data row4 col2\" >12092.9307</td>\n",
       "      <td id=\"T_a204a_row4_col3\" class=\"data row4 col3\" >0.9816</td>\n",
       "      <td id=\"T_a204a_row4_col4\" class=\"data row4 col4\" >0.0354</td>\n",
       "      <td id=\"T_a204a_row4_col5\" class=\"data row4 col5\" >0.0299</td>\n",
       "    </tr>\n",
       "    <tr>\n",
       "      <th id=\"T_a204a_level0_row5\" class=\"row_heading level0 row5\" >5</th>\n",
       "      <td id=\"T_a204a_row5_col0\" class=\"data row5 col0\" >10738.6190</td>\n",
       "      <td id=\"T_a204a_row5_col1\" class=\"data row5 col1\" >222111756.4850</td>\n",
       "      <td id=\"T_a204a_row5_col2\" class=\"data row5 col2\" >14903.4143</td>\n",
       "      <td id=\"T_a204a_row5_col3\" class=\"data row5 col3\" >0.9663</td>\n",
       "      <td id=\"T_a204a_row5_col4\" class=\"data row5 col4\" >0.0422</td>\n",
       "      <td id=\"T_a204a_row5_col5\" class=\"data row5 col5\" >0.0336</td>\n",
       "    </tr>\n",
       "    <tr>\n",
       "      <th id=\"T_a204a_level0_row6\" class=\"row_heading level0 row6\" >6</th>\n",
       "      <td id=\"T_a204a_row6_col0\" class=\"data row6 col0\" >15475.3250</td>\n",
       "      <td id=\"T_a204a_row6_col1\" class=\"data row6 col1\" >330392051.7883</td>\n",
       "      <td id=\"T_a204a_row6_col2\" class=\"data row6 col2\" >18176.6898</td>\n",
       "      <td id=\"T_a204a_row6_col3\" class=\"data row6 col3\" >0.9675</td>\n",
       "      <td id=\"T_a204a_row6_col4\" class=\"data row6 col4\" >0.1052</td>\n",
       "      <td id=\"T_a204a_row6_col5\" class=\"data row6 col5\" >0.0765</td>\n",
       "    </tr>\n",
       "    <tr>\n",
       "      <th id=\"T_a204a_level0_row7\" class=\"row_heading level0 row7\" >7</th>\n",
       "      <td id=\"T_a204a_row7_col0\" class=\"data row7 col0\" >13786.7347</td>\n",
       "      <td id=\"T_a204a_row7_col1\" class=\"data row7 col1\" >249341965.8060</td>\n",
       "      <td id=\"T_a204a_row7_col2\" class=\"data row7 col2\" >15790.5657</td>\n",
       "      <td id=\"T_a204a_row7_col3\" class=\"data row7 col3\" >0.9295</td>\n",
       "      <td id=\"T_a204a_row7_col4\" class=\"data row7 col4\" >0.0524</td>\n",
       "      <td id=\"T_a204a_row7_col5\" class=\"data row7 col5\" >0.0450</td>\n",
       "    </tr>\n",
       "    <tr>\n",
       "      <th id=\"T_a204a_level0_row8\" class=\"row_heading level0 row8\" >8</th>\n",
       "      <td id=\"T_a204a_row8_col0\" class=\"data row8 col0\" >8076.4682</td>\n",
       "      <td id=\"T_a204a_row8_col1\" class=\"data row8 col1\" >122365620.4205</td>\n",
       "      <td id=\"T_a204a_row8_col2\" class=\"data row8 col2\" >11061.8995</td>\n",
       "      <td id=\"T_a204a_row8_col3\" class=\"data row8 col3\" >0.9793</td>\n",
       "      <td id=\"T_a204a_row8_col4\" class=\"data row8 col4\" >0.0422</td>\n",
       "      <td id=\"T_a204a_row8_col5\" class=\"data row8 col5\" >0.0318</td>\n",
       "    </tr>\n",
       "    <tr>\n",
       "      <th id=\"T_a204a_level0_row9\" class=\"row_heading level0 row9\" >9</th>\n",
       "      <td id=\"T_a204a_row9_col0\" class=\"data row9 col0\" >9165.8077</td>\n",
       "      <td id=\"T_a204a_row9_col1\" class=\"data row9 col1\" >170082729.6869</td>\n",
       "      <td id=\"T_a204a_row9_col2\" class=\"data row9 col2\" >13041.5770</td>\n",
       "      <td id=\"T_a204a_row9_col3\" class=\"data row9 col3\" >0.9535</td>\n",
       "      <td id=\"T_a204a_row9_col4\" class=\"data row9 col4\" >0.0720</td>\n",
       "      <td id=\"T_a204a_row9_col5\" class=\"data row9 col5\" >0.0514</td>\n",
       "    </tr>\n",
       "    <tr>\n",
       "      <th id=\"T_a204a_level0_row10\" class=\"row_heading level0 row10\" >Mean</th>\n",
       "      <td id=\"T_a204a_row10_col0\" class=\"data row10 col0\" >11281.2714</td>\n",
       "      <td id=\"T_a204a_row10_col1\" class=\"data row10 col1\" >215464568.7192</td>\n",
       "      <td id=\"T_a204a_row10_col2\" class=\"data row10 col2\" >14435.3818</td>\n",
       "      <td id=\"T_a204a_row10_col3\" class=\"data row10 col3\" >0.9593</td>\n",
       "      <td id=\"T_a204a_row10_col4\" class=\"data row10 col4\" >0.0583</td>\n",
       "      <td id=\"T_a204a_row10_col5\" class=\"data row10 col5\" >0.0449</td>\n",
       "    </tr>\n",
       "    <tr>\n",
       "      <th id=\"T_a204a_level0_row11\" class=\"row_heading level0 row11\" >Std</th>\n",
       "      <td id=\"T_a204a_row11_col0\" class=\"data row11 col0\" >2461.9582</td>\n",
       "      <td id=\"T_a204a_row11_col1\" class=\"data row11 col1\" >80548465.7766</td>\n",
       "      <td id=\"T_a204a_row11_col2\" class=\"data row11 col2\" >2661.6389</td>\n",
       "      <td id=\"T_a204a_row11_col3\" class=\"data row11 col3\" >0.0207</td>\n",
       "      <td id=\"T_a204a_row11_col4\" class=\"data row11 col4\" >0.0210</td>\n",
       "      <td id=\"T_a204a_row11_col5\" class=\"data row11 col5\" >0.0144</td>\n",
       "    </tr>\n",
       "  </tbody>\n",
       "</table>\n"
      ],
      "text/plain": [
       "<pandas.io.formats.style.Styler at 0x1fec9fe5710>"
      ]
     },
     "metadata": {},
     "output_type": "display_data"
    },
    {
     "data": {
      "text/html": [],
      "text/plain": [
       "<IPython.core.display.HTML object>"
      ]
     },
     "metadata": {},
     "output_type": "display_data"
    },
    {
     "name": "stdout",
     "output_type": "stream",
     "text": [
      "Fitting 10 folds for each of 2 candidates, totalling 20 fits\n",
      "Original model was better than the tuned model, hence it will be returned. NOTE: The display metrics are for the tuned model (not the original one).\n"
     ]
    }
   ],
   "source": [
    "#4. Tune_model(): Ajuste automático de hiperparámetros\n",
    "tuned_lr = tune_model(lr)"
   ]
  },
  {
   "cell_type": "code",
   "execution_count": null,
   "id": "2de54c9a",
   "metadata": {},
   "outputs": [
    {
     "data": {
      "application/vnd.jupyter.widget-view+json": {
       "model_id": "dc8c392089ca48df9249f22de19e7257",
       "version_major": 2,
       "version_minor": 0
      },
      "text/plain": [
       "interactive(children=(ToggleButtons(description='Plot Type:', icons=('',), options=(('Pipeline Plot', 'pipelin…"
      ]
     },
     "metadata": {},
     "output_type": "display_data"
    }
   ],
   "source": [
    "#5. plot_model(): visualizar el desempeño del modelo\n",
    "evaluate_model(tuned_lr) "
   ]
  },
  {
   "cell_type": "code",
   "execution_count": 13,
   "id": "7157fa22",
   "metadata": {},
   "outputs": [
    {
     "data": {
      "text/html": [
       "<style type=\"text/css\">\n",
       "</style>\n",
       "<table id=\"T_a1a90\">\n",
       "  <thead>\n",
       "    <tr>\n",
       "      <th class=\"blank level0\" >&nbsp;</th>\n",
       "      <th id=\"T_a1a90_level0_col0\" class=\"col_heading level0 col0\" >Model</th>\n",
       "      <th id=\"T_a1a90_level0_col1\" class=\"col_heading level0 col1\" >MAE</th>\n",
       "      <th id=\"T_a1a90_level0_col2\" class=\"col_heading level0 col2\" >MSE</th>\n",
       "      <th id=\"T_a1a90_level0_col3\" class=\"col_heading level0 col3\" >RMSE</th>\n",
       "      <th id=\"T_a1a90_level0_col4\" class=\"col_heading level0 col4\" >R2</th>\n",
       "      <th id=\"T_a1a90_level0_col5\" class=\"col_heading level0 col5\" >RMSLE</th>\n",
       "      <th id=\"T_a1a90_level0_col6\" class=\"col_heading level0 col6\" >MAPE</th>\n",
       "    </tr>\n",
       "  </thead>\n",
       "  <tbody>\n",
       "    <tr>\n",
       "      <th id=\"T_a1a90_level0_row0\" class=\"row_heading level0 row0\" >0</th>\n",
       "      <td id=\"T_a1a90_row0_col0\" class=\"data row0 col0\" >Linear Regression</td>\n",
       "      <td id=\"T_a1a90_row0_col1\" class=\"data row0 col1\" >12666.9295</td>\n",
       "      <td id=\"T_a1a90_row0_col2\" class=\"data row0 col2\" >222599218.6786</td>\n",
       "      <td id=\"T_a1a90_row0_col3\" class=\"data row0 col3\" >14919.7593</td>\n",
       "      <td id=\"T_a1a90_row0_col4\" class=\"data row0 col4\" >0.9743</td>\n",
       "      <td id=\"T_a1a90_row0_col5\" class=\"data row0 col5\" >0.0807</td>\n",
       "      <td id=\"T_a1a90_row0_col6\" class=\"data row0 col6\" >0.0576</td>\n",
       "    </tr>\n",
       "  </tbody>\n",
       "</table>\n"
      ],
      "text/plain": [
       "<pandas.io.formats.style.Styler at 0x1fed0487e90>"
      ]
     },
     "metadata": {},
     "output_type": "display_data"
    },
    {
     "name": "stdout",
     "output_type": "stream",
     "text": [
      "    area_m2  num_habitaciones  num_banos    distrito  antiguedad_anos  \\\n",
      "8        87                 2          2  San Isidro               19   \n",
      "70      100                 4          2  Miraflores                5   \n",
      "82       31                 1          1       Surco               14   \n",
      "28       97                 3          2       Surco               12   \n",
      "63      130                 1          1       Surco                0   \n",
      "\n",
      "    vista_mar         precio  prediction_label  \n",
      "8           0  242334.515625     229980.233894  \n",
      "70          1  300367.437500     323149.386211  \n",
      "82          1  122736.742188      96058.098024  \n",
      "28          1  315150.500000     298969.196595  \n",
      "63          1  364217.593750     361290.005458  \n"
     ]
    }
   ],
   "source": [
    "preds=predict_model(tuned_lr)\n",
    "print(preds.head())"
   ]
  },
  {
   "cell_type": "code",
   "execution_count": 14,
   "id": "7bc1d6e0",
   "metadata": {},
   "outputs": [
    {
     "name": "stdout",
     "output_type": "stream",
     "text": [
      "Transformation Pipeline and Model Successfully Saved\n"
     ]
    },
    {
     "data": {
      "text/plain": [
       "(Pipeline(memory=Memory(location=None),\n",
       "          steps=[('numerical_imputer',\n",
       "                  TransformerWrapper(include=['area_m2', 'num_habitaciones',\n",
       "                                              'num_banos', 'antiguedad_anos',\n",
       "                                              'vista_mar'],\n",
       "                                     transformer=SimpleImputer())),\n",
       "                 ('categorical_imputer',\n",
       "                  TransformerWrapper(include=['distrito'],\n",
       "                                     transformer=SimpleImputer(strategy='most_frequent'))),\n",
       "                 ('onehot_encoding',\n",
       "                  TransformerWrapper(include=['distrito'],\n",
       "                                     transformer=OneHotEncoder(cols=['distrito'],\n",
       "                                                               handle_missing='return_nan',\n",
       "                                                               use_cat_names=True))),\n",
       "                 ('normalize', TransformerWrapper(transformer=StandardScaler())),\n",
       "                 ('trained_model', LinearRegression(n_jobs=-1))]),\n",
       " 'modelo_precio_final.pkl')"
      ]
     },
     "execution_count": 14,
     "metadata": {},
     "output_type": "execute_result"
    }
   ],
   "source": [
    "#8. Save_model/load_model(): Guardar y cargar el modelo\n",
    "save_model(tuned_lr,'modelo_precio_final')"
   ]
  },
  {
   "cell_type": "code",
   "execution_count": null,
   "id": "ed74c5b3",
   "metadata": {},
   "outputs": [],
   "source": [
    "##CONCLUSIONES\n",
    "#1. EN PROMEDIO, EL MODELO SE EQUIVOCA EN UN 5.76% DEL PRECIO REAL\n",
    "#2. EL MODELO EXPLICA EL 97% DE LA VARIANZA DEL PRECIO\n",
    "#3. ERROR LOGARITMICO (0.08) ES BAJO, BUEN PERFORMANCE EN ESCALAS GRANDES\n",
    "#4. EL FEATURE MAS IMPORTANTE ES EL AREAM2\n",
    "##CONCLUSION EL MODELO TIENE MUY BUEN AJUSTE GLOBAL. ES EXPLICATIVO (R2 ALTO) Y PRECISO (MAPE PEQUEÑO)"
   ]
  },
  {
   "cell_type": "code",
   "execution_count": null,
   "id": "bd2bacd2",
   "metadata": {},
   "outputs": [],
   "source": []
  }
 ],
 "metadata": {
  "kernelspec": {
   "display_name": "Python 3",
   "language": "python",
   "name": "python3"
  },
  "language_info": {
   "codemirror_mode": {
    "name": "ipython",
    "version": 3
   },
   "file_extension": ".py",
   "mimetype": "text/x-python",
   "name": "python",
   "nbconvert_exporter": "python",
   "pygments_lexer": "ipython3",
   "version": "3.11.0"
  }
 },
 "nbformat": 4,
 "nbformat_minor": 5
}
